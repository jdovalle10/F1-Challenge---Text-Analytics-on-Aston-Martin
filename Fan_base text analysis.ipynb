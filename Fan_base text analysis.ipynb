{
 "cells": [
  {
   "cell_type": "markdown",
   "id": "164eba03",
   "metadata": {},
   "source": [
    "## 1. Install dependencies"
   ]
  },
  {
   "cell_type": "code",
   "execution_count": 18,
   "id": "c12855cb",
   "metadata": {},
   "outputs": [],
   "source": [
    "#!pip install praw nltk gensim pyLDAvis"
   ]
  },
  {
   "cell_type": "markdown",
   "id": "d4c05041",
   "metadata": {},
   "source": [
    "## 2. Imports & NLTK setup"
   ]
  },
  {
   "cell_type": "code",
   "execution_count": 19,
   "id": "8775aa94",
   "metadata": {},
   "outputs": [
    {
     "name": "stderr",
     "output_type": "stream",
     "text": [
      "[nltk_data] Downloading package punkt to\n",
      "[nltk_data]     C:\\Users\\Artur\\AppData\\Roaming\\nltk_data...\n",
      "[nltk_data]   Package punkt is already up-to-date!\n",
      "[nltk_data] Downloading package stopwords to\n",
      "[nltk_data]     C:\\Users\\Artur\\AppData\\Roaming\\nltk_data...\n",
      "[nltk_data]   Package stopwords is already up-to-date!\n",
      "[nltk_data] Downloading package vader_lexicon to\n",
      "[nltk_data]     C:\\Users\\Artur\\AppData\\Roaming\\nltk_data...\n",
      "[nltk_data]   Package vader_lexicon is already up-to-date!\n"
     ]
    },
    {
     "data": {
      "text/plain": [
       "True"
      ]
     },
     "execution_count": 19,
     "metadata": {},
     "output_type": "execute_result"
    }
   ],
   "source": [
    "import praw\n",
    "import pandas as pd\n",
    "\n",
    "import nltk\n",
    "from nltk.tokenize import word_tokenize\n",
    "from nltk.corpus import stopwords\n",
    "from nltk.sentiment.vader import SentimentIntensityAnalyzer\n",
    "from nltk.tokenize import word_tokenize\n",
    "\n",
    "from gensim import corpora, models\n",
    "\n",
    "# Optional visualization\n",
    "import pyLDAvis.gensim_models\n",
    "\n",
    "# Download NLTK data (run once)\n",
    "nltk.download('punkt')\n",
    "nltk.download('stopwords')\n",
    "nltk.download('vader_lexicon')"
   ]
  },
  {
   "cell_type": "markdown",
   "id": "c3600673",
   "metadata": {},
   "source": [
    "## 3. Reddit API authentication"
   ]
  },
  {
   "cell_type": "code",
   "execution_count": 20,
   "id": "f7063a97",
   "metadata": {},
   "outputs": [],
   "source": [
    "CLIENT_ID     = \"DHJ6i6-NjssQ5b5SPIqJvw\"\n",
    "CLIENT_SECRET = \"NkUebd7YS1ZzQLhzVq_9dyyYHOyDEQ\"\n",
    "USER_AGENT    = \"script:aston.scraper:v1.0 (by u/Sad-State-7591)\"\n",
    "\n",
    "reddit = praw.Reddit(\n",
    "    client_id=CLIENT_ID,\n",
    "    client_secret=CLIENT_SECRET,\n",
    "    user_agent=USER_AGENT\n",
    ")"
   ]
  },
  {
   "cell_type": "markdown",
   "id": "506dc248",
   "metadata": {},
   "source": [
    "## 4. Fetch comments and upvote scores"
   ]
  },
  {
   "cell_type": "code",
   "execution_count": 21,
   "id": "64f1190c",
   "metadata": {},
   "outputs": [
    {
     "data": {
      "text/html": [
       "<div>\n",
       "<style scoped>\n",
       "    .dataframe tbody tr th:only-of-type {\n",
       "        vertical-align: middle;\n",
       "    }\n",
       "\n",
       "    .dataframe tbody tr th {\n",
       "        vertical-align: top;\n",
       "    }\n",
       "\n",
       "    .dataframe thead th {\n",
       "        text-align: right;\n",
       "    }\n",
       "</style>\n",
       "<table border=\"1\" class=\"dataframe\">\n",
       "  <thead>\n",
       "    <tr style=\"text-align: right;\">\n",
       "      <th></th>\n",
       "      <th>comment_id</th>\n",
       "      <th>body</th>\n",
       "      <th>upvotes</th>\n",
       "    </tr>\n",
       "  </thead>\n",
       "  <tbody>\n",
       "    <tr>\n",
       "      <th>0</th>\n",
       "      <td>k6fsjxc</td>\n",
       "      <td>As a general rule ([see full rules](https://ww...</td>\n",
       "      <td>1</td>\n",
       "    </tr>\n",
       "    <tr>\n",
       "      <th>1</th>\n",
       "      <td>k6ftymh</td>\n",
       "      <td>In the way that it's basically currently Jorda...</td>\n",
       "      <td>427</td>\n",
       "    </tr>\n",
       "    <tr>\n",
       "      <th>2</th>\n",
       "      <td>k6ft9fz</td>\n",
       "      <td>Maybe some hardcore Jordan fans that never left?</td>\n",
       "      <td>348</td>\n",
       "    </tr>\n",
       "    <tr>\n",
       "      <th>3</th>\n",
       "      <td>k6fxo40</td>\n",
       "      <td>You can count me as one. Seb being a part of t...</td>\n",
       "      <td>111</td>\n",
       "    </tr>\n",
       "    <tr>\n",
       "      <th>4</th>\n",
       "      <td>k6ft2ak</td>\n",
       "      <td>Somewhere, someone, maybe, perhaps...\\n\\nBut n...</td>\n",
       "      <td>170</td>\n",
       "    </tr>\n",
       "    <tr>\n",
       "      <th>5</th>\n",
       "      <td>k6fvpge</td>\n",
       "      <td>\"Aston\", no, not particularly. But as others s...</td>\n",
       "      <td>58</td>\n",
       "    </tr>\n",
       "    <tr>\n",
       "      <th>6</th>\n",
       "      <td>k6g2a5w</td>\n",
       "      <td>Iam a fan of the team but not because of the A...</td>\n",
       "      <td>27</td>\n",
       "    </tr>\n",
       "    <tr>\n",
       "      <th>7</th>\n",
       "      <td>k6fwveo</td>\n",
       "      <td>Probably there are a Aston Martin fans, the th...</td>\n",
       "      <td>74</td>\n",
       "    </tr>\n",
       "    <tr>\n",
       "      <th>8</th>\n",
       "      <td>k6hjd9y</td>\n",
       "      <td>I’m not ashamed to admit it, when I was a kid,...</td>\n",
       "      <td>19</td>\n",
       "    </tr>\n",
       "    <tr>\n",
       "      <th>9</th>\n",
       "      <td>k6h27mx</td>\n",
       "      <td>Luv me British racin' green\\n\\nLuv me James Bo...</td>\n",
       "      <td>37</td>\n",
       "    </tr>\n",
       "  </tbody>\n",
       "</table>\n",
       "</div>"
      ],
      "text/plain": [
       "  comment_id                                               body  upvotes\n",
       "0    k6fsjxc  As a general rule ([see full rules](https://ww...        1\n",
       "1    k6ftymh  In the way that it's basically currently Jorda...      427\n",
       "2    k6ft9fz   Maybe some hardcore Jordan fans that never left?      348\n",
       "3    k6fxo40  You can count me as one. Seb being a part of t...      111\n",
       "4    k6ft2ak  Somewhere, someone, maybe, perhaps...\\n\\nBut n...      170\n",
       "5    k6fvpge  \"Aston\", no, not particularly. But as others s...       58\n",
       "6    k6g2a5w  Iam a fan of the team but not because of the A...       27\n",
       "7    k6fwveo  Probably there are a Aston Martin fans, the th...       74\n",
       "8    k6hjd9y  I’m not ashamed to admit it, when I was a kid,...       19\n",
       "9    k6h27mx  Luv me British racin' green\\n\\nLuv me James Bo...       37"
      ]
     },
     "execution_count": 21,
     "metadata": {},
     "output_type": "execute_result"
    }
   ],
   "source": [
    "def fetch_comments_for_post(url, reddit_instance):\n",
    "    submission = reddit_instance.submission(url=url)\n",
    "    submission.comments.replace_more(limit=None)\n",
    "    comments = submission.comments.list()\n",
    "    \n",
    "    records = []\n",
    "    for c in comments:\n",
    "        # skip deleted or empty bodies\n",
    "        if c.body and c.body.strip().lower() != '[deleted]':\n",
    "            records.append({\n",
    "                'comment_id': c.id,\n",
    "                'body':       c.body,\n",
    "                'upvotes':    c.score\n",
    "            })\n",
    "    return pd.DataFrame(records)\n",
    "\n",
    "# Apply to your specific thread\n",
    "post_url = \"https://www.reddit.com/r/formula1/comments/17gd7t3/is_anyone_a_true_fan_of_aston_martin/\"\n",
    "df = fetch_comments_for_post(post_url, reddit)\n",
    "df.head(10)"
   ]
  },
  {
   "cell_type": "markdown",
   "id": "8db575cd",
   "metadata": {},
   "source": [
    "## 5. Sentiment scoring with VADER"
   ]
  },
  {
   "cell_type": "code",
   "execution_count": 22,
   "id": "738dbdf7",
   "metadata": {},
   "outputs": [
    {
     "data": {
      "text/html": [
       "<div>\n",
       "<style scoped>\n",
       "    .dataframe tbody tr th:only-of-type {\n",
       "        vertical-align: middle;\n",
       "    }\n",
       "\n",
       "    .dataframe tbody tr th {\n",
       "        vertical-align: top;\n",
       "    }\n",
       "\n",
       "    .dataframe thead th {\n",
       "        text-align: right;\n",
       "    }\n",
       "</style>\n",
       "<table border=\"1\" class=\"dataframe\">\n",
       "  <thead>\n",
       "    <tr style=\"text-align: right;\">\n",
       "      <th></th>\n",
       "      <th>body</th>\n",
       "      <th>upvotes</th>\n",
       "      <th>compound</th>\n",
       "      <th>neg</th>\n",
       "      <th>neu</th>\n",
       "      <th>pos</th>\n",
       "    </tr>\n",
       "  </thead>\n",
       "  <tbody>\n",
       "    <tr>\n",
       "      <th>0</th>\n",
       "      <td>As a general rule ([see full rules](https://ww...</td>\n",
       "      <td>1</td>\n",
       "      <td>0.9272</td>\n",
       "      <td>0.034</td>\n",
       "      <td>0.820</td>\n",
       "      <td>0.146</td>\n",
       "    </tr>\n",
       "    <tr>\n",
       "      <th>1</th>\n",
       "      <td>In the way that it's basically currently Jorda...</td>\n",
       "      <td>427</td>\n",
       "      <td>0.4019</td>\n",
       "      <td>0.000</td>\n",
       "      <td>0.899</td>\n",
       "      <td>0.101</td>\n",
       "    </tr>\n",
       "    <tr>\n",
       "      <th>2</th>\n",
       "      <td>Maybe some hardcore Jordan fans that never left?</td>\n",
       "      <td>348</td>\n",
       "      <td>0.0000</td>\n",
       "      <td>0.000</td>\n",
       "      <td>1.000</td>\n",
       "      <td>0.000</td>\n",
       "    </tr>\n",
       "    <tr>\n",
       "      <th>3</th>\n",
       "      <td>You can count me as one. Seb being a part of t...</td>\n",
       "      <td>111</td>\n",
       "      <td>0.9127</td>\n",
       "      <td>0.054</td>\n",
       "      <td>0.732</td>\n",
       "      <td>0.215</td>\n",
       "    </tr>\n",
       "    <tr>\n",
       "      <th>4</th>\n",
       "      <td>Somewhere, someone, maybe, perhaps...\\n\\nBut n...</td>\n",
       "      <td>170</td>\n",
       "      <td>0.0000</td>\n",
       "      <td>0.000</td>\n",
       "      <td>1.000</td>\n",
       "      <td>0.000</td>\n",
       "    </tr>\n",
       "    <tr>\n",
       "      <th>5</th>\n",
       "      <td>\"Aston\", no, not particularly. But as others s...</td>\n",
       "      <td>58</td>\n",
       "      <td>0.9558</td>\n",
       "      <td>0.026</td>\n",
       "      <td>0.674</td>\n",
       "      <td>0.299</td>\n",
       "    </tr>\n",
       "    <tr>\n",
       "      <th>6</th>\n",
       "      <td>Iam a fan of the team but not because of the A...</td>\n",
       "      <td>27</td>\n",
       "      <td>0.9260</td>\n",
       "      <td>0.000</td>\n",
       "      <td>0.816</td>\n",
       "      <td>0.184</td>\n",
       "    </tr>\n",
       "    <tr>\n",
       "      <th>7</th>\n",
       "      <td>Probably there are a Aston Martin fans, the th...</td>\n",
       "      <td>74</td>\n",
       "      <td>0.8647</td>\n",
       "      <td>0.029</td>\n",
       "      <td>0.824</td>\n",
       "      <td>0.148</td>\n",
       "    </tr>\n",
       "    <tr>\n",
       "      <th>8</th>\n",
       "      <td>I’m not ashamed to admit it, when I was a kid,...</td>\n",
       "      <td>19</td>\n",
       "      <td>0.9967</td>\n",
       "      <td>0.035</td>\n",
       "      <td>0.710</td>\n",
       "      <td>0.255</td>\n",
       "    </tr>\n",
       "    <tr>\n",
       "      <th>9</th>\n",
       "      <td>Luv me British racin' green\\n\\nLuv me James Bo...</td>\n",
       "      <td>37</td>\n",
       "      <td>0.0000</td>\n",
       "      <td>0.000</td>\n",
       "      <td>1.000</td>\n",
       "      <td>0.000</td>\n",
       "    </tr>\n",
       "  </tbody>\n",
       "</table>\n",
       "</div>"
      ],
      "text/plain": [
       "                                                body  upvotes  compound  \\\n",
       "0  As a general rule ([see full rules](https://ww...        1    0.9272   \n",
       "1  In the way that it's basically currently Jorda...      427    0.4019   \n",
       "2   Maybe some hardcore Jordan fans that never left?      348    0.0000   \n",
       "3  You can count me as one. Seb being a part of t...      111    0.9127   \n",
       "4  Somewhere, someone, maybe, perhaps...\\n\\nBut n...      170    0.0000   \n",
       "5  \"Aston\", no, not particularly. But as others s...       58    0.9558   \n",
       "6  Iam a fan of the team but not because of the A...       27    0.9260   \n",
       "7  Probably there are a Aston Martin fans, the th...       74    0.8647   \n",
       "8  I’m not ashamed to admit it, when I was a kid,...       19    0.9967   \n",
       "9  Luv me British racin' green\\n\\nLuv me James Bo...       37    0.0000   \n",
       "\n",
       "     neg    neu    pos  \n",
       "0  0.034  0.820  0.146  \n",
       "1  0.000  0.899  0.101  \n",
       "2  0.000  1.000  0.000  \n",
       "3  0.054  0.732  0.215  \n",
       "4  0.000  1.000  0.000  \n",
       "5  0.026  0.674  0.299  \n",
       "6  0.000  0.816  0.184  \n",
       "7  0.029  0.824  0.148  \n",
       "8  0.035  0.710  0.255  \n",
       "9  0.000  1.000  0.000  "
      ]
     },
     "execution_count": 22,
     "metadata": {},
     "output_type": "execute_result"
    }
   ],
   "source": [
    "sent_analyzer = SentimentIntensityAnalyzer()\n",
    "\n",
    "def attach_sentiment(df, text_col='body'):\n",
    "    scores = df[text_col].apply(sent_analyzer.polarity_scores)\n",
    "    return pd.concat([df, pd.DataFrame(list(scores))], axis=1)\n",
    "\n",
    "df = attach_sentiment(df)\n",
    "df[['body','upvotes','compound','neg','neu','pos']].head(10)"
   ]
  },
  {
   "cell_type": "markdown",
   "id": "99756562",
   "metadata": {},
   "source": [
    "## 6. Text preprocessing for LDA"
   ]
  },
  {
   "cell_type": "code",
   "execution_count": 23,
   "id": "f1bf9a4e",
   "metadata": {},
   "outputs": [],
   "source": [
    "# Build stopword set\n",
    "stop_words = set(stopwords.words('english'))\n",
    "stop_words |= {\"’\",\"…\",\"—\",\"“\",\"”\",\"–\"}  # add punctuation tokens\n",
    "\n",
    "def tokenize_and_clean(text):\n",
    "    # skip sent_tokenize, just do raw tokenization\n",
    "    tokens = word_tokenize(text.lower(), preserve_line=True)\n",
    "    return [\n",
    "        t for t in tokens\n",
    "        if t.isalpha() and t not in stop_words and len(t) > 2\n",
    "    ]\n",
    "\n",
    "df['tokens'] = df['body'].map(tokenize_and_clean)"
   ]
  },
  {
   "cell_type": "code",
   "execution_count": 24,
   "id": "0e460ed3",
   "metadata": {},
   "outputs": [
    {
     "data": {
      "text/html": [
       "<div>\n",
       "<style scoped>\n",
       "    .dataframe tbody tr th:only-of-type {\n",
       "        vertical-align: middle;\n",
       "    }\n",
       "\n",
       "    .dataframe tbody tr th {\n",
       "        vertical-align: top;\n",
       "    }\n",
       "\n",
       "    .dataframe thead th {\n",
       "        text-align: right;\n",
       "    }\n",
       "</style>\n",
       "<table border=\"1\" class=\"dataframe\">\n",
       "  <thead>\n",
       "    <tr style=\"text-align: right;\">\n",
       "      <th></th>\n",
       "      <th>body</th>\n",
       "      <th>tokens</th>\n",
       "    </tr>\n",
       "  </thead>\n",
       "  <tbody>\n",
       "    <tr>\n",
       "      <th>0</th>\n",
       "      <td>As a general rule ([see full rules](https://ww...</td>\n",
       "      <td>[general, rule, see, full, rules, https, stand...</td>\n",
       "    </tr>\n",
       "    <tr>\n",
       "      <th>1</th>\n",
       "      <td>In the way that it's basically currently Jorda...</td>\n",
       "      <td>[way, basically, currently, jordan, theres, so...</td>\n",
       "    </tr>\n",
       "    <tr>\n",
       "      <th>2</th>\n",
       "      <td>Maybe some hardcore Jordan fans that never left?</td>\n",
       "      <td>[maybe, hardcore, jordan, fans, never, left]</td>\n",
       "    </tr>\n",
       "    <tr>\n",
       "      <th>3</th>\n",
       "      <td>You can count me as one. Seb being a part of t...</td>\n",
       "      <td>[count, seb, part, team, helped, always, fond,...</td>\n",
       "    </tr>\n",
       "    <tr>\n",
       "      <th>4</th>\n",
       "      <td>Somewhere, someone, maybe, perhaps...\\n\\nBut n...</td>\n",
       "      <td>[somewhere, someone, maybe, perhaps, without, ...</td>\n",
       "    </tr>\n",
       "  </tbody>\n",
       "</table>\n",
       "</div>"
      ],
      "text/plain": [
       "                                                body  \\\n",
       "0  As a general rule ([see full rules](https://ww...   \n",
       "1  In the way that it's basically currently Jorda...   \n",
       "2   Maybe some hardcore Jordan fans that never left?   \n",
       "3  You can count me as one. Seb being a part of t...   \n",
       "4  Somewhere, someone, maybe, perhaps...\\n\\nBut n...   \n",
       "\n",
       "                                              tokens  \n",
       "0  [general, rule, see, full, rules, https, stand...  \n",
       "1  [way, basically, currently, jordan, theres, so...  \n",
       "2       [maybe, hardcore, jordan, fans, never, left]  \n",
       "3  [count, seb, part, team, helped, always, fond,...  \n",
       "4  [somewhere, someone, maybe, perhaps, without, ...  "
      ]
     },
     "execution_count": 24,
     "metadata": {},
     "output_type": "execute_result"
    }
   ],
   "source": [
    "# Inspect token lists\n",
    "df[['body','tokens']].head(5)"
   ]
  },
  {
   "cell_type": "markdown",
   "id": "314e0c2c",
   "metadata": {},
   "source": [
    "## 7. Build corpus & dictionary"
   ]
  },
  {
   "cell_type": "code",
   "execution_count": 25,
   "id": "1fdaf719",
   "metadata": {},
   "outputs": [],
   "source": [
    "dictionary = corpora.Dictionary(df['tokens'])\n",
    "# Filter out words that appear in <5 documents or in >50% of docs\n",
    "dictionary.filter_extremes(no_below=5, no_above=0.5)\n",
    "\n",
    "corpus = [dictionary.doc2bow(toks) for toks in df['tokens']]"
   ]
  },
  {
   "cell_type": "markdown",
   "id": "3b8e9486",
   "metadata": {},
   "source": [
    "## 8. Train LDA model"
   ]
  },
  {
   "cell_type": "code",
   "execution_count": 26,
   "id": "98c2a13f",
   "metadata": {},
   "outputs": [
    {
     "name": "stdout",
     "output_type": "stream",
     "text": [
      "Topic 0: team, like, cars, fan, stroll, alonso, fans, martin, aston, love\n",
      "Topic 1: fan, team, would, alonso, racing, one, aston, force, point, india\n",
      "Topic 2: team, car, aston, think, company, green, would, martin, lawrence, long\n",
      "Topic 3: team, aston, like, fan, martin, teams, really, fans, drivers, stroll\n"
     ]
    }
   ],
   "source": [
    "NUM_TOPICS = 4\n",
    "\n",
    "lda = models.LdaModel(\n",
    "    corpus=corpus,\n",
    "    id2word=dictionary,\n",
    "    num_topics=NUM_TOPICS,\n",
    "    passes=10,\n",
    "    random_state=42\n",
    ")\n",
    "\n",
    "for topic_id, terms in lda.show_topics(formatted=False):\n",
    "    top_terms = \", \".join([w for w,_ in terms])\n",
    "    print(f\"Topic {topic_id}: {top_terms}\")\n"
   ]
  },
  {
   "cell_type": "markdown",
   "id": "1c2a5aa2",
   "metadata": {},
   "source": [
    "## 9. pyLDAvis visualization"
   ]
  },
  {
   "cell_type": "code",
   "execution_count": 27,
   "id": "011a671c",
   "metadata": {},
   "outputs": [
    {
     "data": {
      "text/html": [
       "\n",
       "<link rel=\"stylesheet\" type=\"text/css\" href=\"https://cdn.jsdelivr.net/gh/bmabey/pyLDAvis@3.4.0/pyLDAvis/js/ldavis.v1.0.0.css\">\n",
       "\n",
       "\n",
       "<div id=\"ldavis_el751623320660027683566776155\" style=\"background-color:white;\"></div>\n",
       "<script type=\"text/javascript\">\n",
       "\n",
       "var ldavis_el751623320660027683566776155_data = {\"mdsDat\": {\"x\": [-0.05688565174536724, -0.058188793528885265, -0.03803583122051317, 0.15311027649476555], \"y\": [0.019366918810991007, 0.08424789958297296, -0.11440712650433661, 0.010792308110372649], \"topics\": [1, 2, 3, 4], \"cluster\": [1, 1, 1, 1], \"Freq\": [33.46841800727166, 24.222986627045756, 22.34620151941175, 19.96239384627084]}, \"tinfo\": {\"Term\": [\"fan\", \"company\", \"car\", \"green\", \"alonso\", \"cars\", \"teams\", \"would\", \"fans\", \"like\", \"think\", \"shares\", \"india\", \"force\", \"long\", \"someone\", \"auto\", \"brand\", \"lawrence\", \"road\", \"james\", \"love\", \"old\", \"bond\", \"without\", \"support\", \"care\", \"race\", \"maybe\", \"last\", \"world\", \"underdog\", \"went\", \"consider\", \"count\", \"teams\", \"name\", \"two\", \"drives\", \"every\", \"feel\", \"sorry\", \"merc\", \"recent\", \"guys\", \"mean\", \"lost\", \"really\", \"much\", \"drive\", \"new\", \"yes\", \"sure\", \"red\", \"use\", \"interest\", \"india\", \"force\", \"fans\", \"people\", \"bit\", \"like\", \"martin\", \"aston\", \"drivers\", \"team\", \"make\", \"big\", \"fan\", \"ferrari\", \"mercedes\", \"stroll\", \"mclaren\", \"back\", \"always\", \"think\", \"racing\", \"alonso\", \"jordan\", \"support\", \"see\", \"one\", \"someone\", \"little\", \"favorite\", \"without\", \"start\", \"maybe\", \"remember\", \"races\", \"great\", \"something\", \"seeing\", \"point\", \"honda\", \"midland\", \"care\", \"spyker\", \"lot\", \"would\", \"became\", \"sauber\", \"first\", \"true\", \"alonso\", \"vettel\", \"never\", \"beginning\", \"behind\", \"probably\", \"could\", \"liked\", \"fan\", \"one\", \"driver\", \"racing\", \"force\", \"india\", \"team\", \"still\", \"love\", \"mclaren\", \"aston\", \"drivers\", \"jordan\", \"car\", \"martin\", \"even\", \"since\", \"like\", \"end\", \"bond\", \"james\", \"made\", \"old\", \"used\", \"race\", \"put\", \"eddie\", \"came\", \"cars\", \"road\", \"take\", \"quite\", \"question\", \"lance\", \"watching\", \"leaves\", \"grid\", \"less\", \"whole\", \"support\", \"silverstone\", \"actually\", \"huge\", \"time\", \"full\", \"reason\", \"brand\", \"love\", \"get\", \"stroll\", \"like\", \"fans\", \"jordan\", \"alonso\", \"team\", \"fan\", \"always\", \"martin\", \"aston\", \"back\", \"driver\", \"really\", \"still\", \"would\", \"company\", \"shares\", \"last\", \"owns\", \"yeah\", \"green\", \"long\", \"read\", \"right\", \"auto\", \"looking\", \"deal\", \"factory\", \"different\", \"become\", \"wanted\", \"car\", \"lawrence\", \"branding\", \"nothing\", \"bought\", \"said\", \"makes\", \"fernando\", \"good\", \"well\", \"https\", \"investment\", \"livery\", \"mostly\", \"think\", \"may\", \"season\", \"money\", \"year\", \"brand\", \"team\", \"aston\", \"would\", \"also\", \"one\", \"martin\", \"get\", \"ferrari\", \"stroll\", \"like\"], \"Freq\": [83.0, 15.0, 37.0, 16.0, 49.0, 25.0, 27.0, 44.0, 33.0, 76.0, 30.0, 8.0, 23.0, 24.0, 12.0, 9.0, 12.0, 17.0, 16.0, 14.0, 10.0, 22.0, 10.0, 9.0, 11.0, 19.0, 13.0, 12.0, 11.0, 6.0, 7.376427011120623, 5.682624148191039, 5.649439764922908, 5.645462342374125, 4.782715662910152, 23.280372644784524, 9.240163944772526, 6.535151299671174, 4.784647254965405, 4.705848676815357, 4.677008283392457, 3.8672205353255236, 3.8242760885615685, 4.465588084431435, 3.8181105605411827, 5.65066291127852, 5.255466960051925, 21.675551063876853, 8.63779763187112, 3.4723463766228653, 7.975580420252481, 4.005628144730082, 4.978748822992553, 3.837223111566234, 3.8116818238113614, 3.7679050684256783, 13.943772209139047, 14.212540522570668, 19.213941195895753, 9.99544824101869, 8.419069938962766, 39.486880246818984, 30.289552787209406, 41.755858163605275, 15.321885307780091, 62.821747555852106, 7.781723230422965, 8.221532011759333, 30.717599612417295, 10.501107740588804, 7.8437367088069125, 14.802238504042105, 7.403773935729572, 8.280674883232743, 9.283064872131423, 10.639403203834174, 9.897013205159626, 10.73514589496111, 8.640783732587387, 7.853305956449792, 7.554029703161088, 7.495477691302499, 8.46683553656502, 6.558882088010115, 6.3754178967873685, 8.494266790660305, 4.838997516208737, 8.163868186561322, 7.25900023358193, 3.8561155175467143, 8.220747743267742, 5.4243353039840105, 4.116508303719238, 9.32459601803505, 5.1152132302657325, 5.473809324607913, 7.271239417459187, 5.542636108019026, 4.539904353084132, 24.39436888965367, 2.9870737988143863, 5.3486184524444305, 6.094621120290321, 3.671949599385345, 24.365946071468162, 3.689132066427122, 4.547249317139146, 3.1037300723026955, 3.899828835494944, 7.269896535609446, 7.7184542051990865, 2.925648311443865, 36.06684087759244, 13.223178886924257, 7.387804832906242, 13.397308928708792, 9.753687049425777, 9.313335072401967, 33.14296369223276, 7.911377324236703, 7.3880035091564515, 5.829229021827836, 12.963224339370718, 8.10443794177675, 7.3556126174492205, 7.427590963451315, 8.042686576898264, 6.284447191561708, 6.043965945130109, 6.729738211708113, 4.927369422112736, 7.759103263372343, 8.50637451714395, 6.060086874801426, 8.276899841110032, 6.0199875911367515, 8.638225338271713, 3.9562675442944317, 3.9341925704064846, 3.9239907529587628, 17.47473708292586, 9.309078793561607, 5.009651156197035, 6.887791387435935, 4.000287852937507, 6.578195815794485, 7.475629976993866, 3.1139830995327413, 3.109937743920495, 3.9645884767375508, 4.959470753587608, 9.971226310535485, 5.708401052985676, 5.213757912611538, 4.197077821398871, 5.128582208402807, 2.77530980567367, 3.6701433611655583, 8.348685834540305, 10.977515434100175, 7.420833974224599, 15.690347178710791, 24.847583902801002, 12.819061667364796, 9.473608734368268, 13.592949176198566, 25.61194517053006, 16.02451551270441, 7.355935059725321, 11.696579000696397, 11.454997594267434, 6.023207335461327, 5.80316781786553, 6.634883320566301, 6.039760911627801, 6.00801105866389, 13.757357570435497, 7.62321051465734, 5.733791842044747, 5.6218248046284645, 5.452983212482124, 13.616123618753106, 8.735583378677639, 4.019243855736879, 6.531670422255356, 8.54904386433463, 4.414752033182997, 4.5824944313123845, 3.9734513431382337, 5.524370922002782, 3.9208163228250617, 4.466421639677464, 21.78468362059269, 9.191670025297862, 3.65608577686464, 3.0864579291894136, 3.5624441307091987, 2.954771291207408, 3.431079214136788, 4.898584593084018, 6.904281220247501, 8.160583607108931, 4.958210627115369, 3.086773410850955, 3.5248593826989976, 3.078490270106035, 14.44745174114447, 4.390597718881301, 7.177287169665258, 5.638847835675758, 5.589979127287161, 6.6086629230668175, 27.71421136725035, 19.056246460908813, 10.483282896799267, 6.933881586649543, 7.6872338239363485, 9.29581691127473, 5.785129993122658, 5.9076956169912345, 6.641695650077656, 5.169012777786267], \"Total\": [83.0, 15.0, 37.0, 16.0, 49.0, 25.0, 27.0, 44.0, 33.0, 76.0, 30.0, 8.0, 23.0, 24.0, 12.0, 9.0, 12.0, 17.0, 16.0, 14.0, 10.0, 22.0, 10.0, 9.0, 11.0, 19.0, 13.0, 12.0, 11.0, 6.0, 8.228877357686118, 6.403350432778053, 6.405115451407361, 6.403474365762885, 5.491313239938902, 27.392757720174057, 10.971472855370235, 8.262412335725543, 6.438040169356803, 6.4116483442440675, 6.409200620459035, 5.539931358476926, 5.498615333910586, 6.467812272280694, 5.541876613283067, 8.297917476255414, 8.244620414094445, 34.18675290714631, 13.783038973757916, 5.555483605757418, 12.842241524919906, 6.468072942175885, 8.303415476438545, 6.415777412202089, 6.416668615585959, 6.4184841209572925, 23.781215881912843, 24.703413535113167, 33.481121180828275, 17.457345421807865, 14.780911285436103, 76.23321513911436, 59.324635276078794, 85.23032655815224, 29.518236453414154, 149.2908677858653, 13.812281295029564, 14.843552953900415, 83.08420470477446, 21.227144845415996, 14.787614301376937, 42.08922279548417, 13.731397672240234, 16.79501858023803, 21.49751967786837, 30.763741185202583, 33.35065327190714, 49.16892761975209, 27.01628266510314, 19.66723769273094, 17.57401727409727, 30.559426759198107, 9.190182569097326, 8.276802565854227, 8.27355002195614, 11.108642859954383, 6.434834994515556, 11.011566653250497, 10.176029198895078, 5.562754632027333, 11.923837816661988, 8.358205248517164, 6.509933701507895, 14.797795862815823, 8.350941517247545, 9.253825430251535, 13.083424589340806, 10.126591237267306, 8.296259104738281, 44.60245604612551, 5.50888952565686, 10.082787168853788, 11.945813585996522, 7.395004316811609, 49.16892761975209, 7.4909480368994785, 9.332938945897087, 6.516990732212916, 8.355530256066162, 15.704477446446864, 16.79179517749325, 6.420100289359275, 83.08420470477446, 30.559426759198107, 16.768120503782892, 33.35065327190714, 24.703413535113167, 23.781215881912843, 149.2908677858653, 22.311104238220338, 22.48833527419833, 13.731397672240234, 85.23032655815224, 29.518236453414154, 27.01628266510314, 37.480850368503695, 59.324635276078794, 20.430407250072452, 19.51698798419164, 76.23321513911436, 5.729551705731587, 9.541975184602414, 10.476102118135097, 7.627193636746566, 10.468167445859498, 8.529115631284208, 12.352553266827078, 5.688356857327011, 5.677962500765468, 5.677302604944043, 25.56201632998247, 14.165925732103537, 7.625482959493834, 11.344684617990595, 6.599097823074492, 11.326845530669264, 13.183757943556557, 5.648121686195555, 5.640819342800706, 7.507328225056047, 9.474406719280072, 19.66723769273094, 11.281714859365007, 10.39257019143166, 8.43445843337563, 10.34379752641119, 5.619255549543525, 7.489997669402628, 17.07683978091732, 22.48833527419833, 16.102708621567615, 42.08922279548417, 76.23321513911436, 33.481121180828275, 27.01628266510314, 49.16892761975209, 149.2908677858653, 83.08420470477446, 21.49751967786837, 59.324635276078794, 85.23032655815224, 16.79501858023803, 16.768120503782892, 34.18675290714631, 22.311104238220338, 44.60245604612551, 15.11324206524876, 8.50381779891868, 6.612526208367989, 6.60402207492596, 6.604722211694399, 16.950689192851772, 12.241262500115779, 5.638392057463319, 9.381343859066138, 12.28444567803783, 6.5695075838750565, 7.576027456833459, 6.6371170638972, 9.335699402593626, 6.633305512245037, 7.5780093396009764, 37.480850368503695, 16.0382513932853, 6.615177405950061, 5.6063981383414685, 6.527036634753122, 5.598502118387486, 6.537607441609021, 9.364979194167741, 14.025091410886684, 16.849842868685677, 10.27424022526267, 6.509334912217957, 7.444750254767387, 6.524258018862784, 30.763741185202583, 9.39558158187385, 15.908181937515545, 12.331067691091082, 13.246918200267938, 17.07683978091732, 149.2908677858653, 85.23032655815224, 44.60245604612551, 23.361707173723175, 30.559426759198107, 59.324635276078794, 16.102708621567615, 21.227144845415996, 42.08922279548417, 76.23321513911436], \"Category\": [\"Default\", \"Default\", \"Default\", \"Default\", \"Default\", \"Default\", \"Default\", \"Default\", \"Default\", \"Default\", \"Default\", \"Default\", \"Default\", \"Default\", \"Default\", \"Default\", \"Default\", \"Default\", \"Default\", \"Default\", \"Default\", \"Default\", \"Default\", \"Default\", \"Default\", \"Default\", \"Default\", \"Default\", \"Default\", \"Default\", \"Topic1\", \"Topic1\", \"Topic1\", \"Topic1\", \"Topic1\", \"Topic1\", \"Topic1\", \"Topic1\", \"Topic1\", \"Topic1\", \"Topic1\", \"Topic1\", \"Topic1\", \"Topic1\", \"Topic1\", \"Topic1\", \"Topic1\", \"Topic1\", \"Topic1\", \"Topic1\", \"Topic1\", \"Topic1\", \"Topic1\", \"Topic1\", \"Topic1\", \"Topic1\", \"Topic1\", \"Topic1\", \"Topic1\", \"Topic1\", \"Topic1\", \"Topic1\", \"Topic1\", \"Topic1\", \"Topic1\", \"Topic1\", \"Topic1\", \"Topic1\", \"Topic1\", \"Topic1\", \"Topic1\", \"Topic1\", \"Topic1\", \"Topic1\", \"Topic1\", \"Topic1\", \"Topic1\", \"Topic1\", \"Topic1\", \"Topic1\", \"Topic1\", \"Topic1\", \"Topic2\", \"Topic2\", \"Topic2\", \"Topic2\", \"Topic2\", \"Topic2\", \"Topic2\", \"Topic2\", \"Topic2\", \"Topic2\", \"Topic2\", \"Topic2\", \"Topic2\", \"Topic2\", \"Topic2\", \"Topic2\", \"Topic2\", \"Topic2\", \"Topic2\", \"Topic2\", \"Topic2\", \"Topic2\", \"Topic2\", \"Topic2\", \"Topic2\", \"Topic2\", \"Topic2\", \"Topic2\", \"Topic2\", \"Topic2\", \"Topic2\", \"Topic2\", \"Topic2\", \"Topic2\", \"Topic2\", \"Topic2\", \"Topic2\", \"Topic2\", \"Topic2\", \"Topic2\", \"Topic2\", \"Topic2\", \"Topic2\", \"Topic2\", \"Topic2\", \"Topic2\", \"Topic2\", \"Topic2\", \"Topic3\", \"Topic3\", \"Topic3\", \"Topic3\", \"Topic3\", \"Topic3\", \"Topic3\", \"Topic3\", \"Topic3\", \"Topic3\", \"Topic3\", \"Topic3\", \"Topic3\", \"Topic3\", \"Topic3\", \"Topic3\", \"Topic3\", \"Topic3\", \"Topic3\", \"Topic3\", \"Topic3\", \"Topic3\", \"Topic3\", \"Topic3\", \"Topic3\", \"Topic3\", \"Topic3\", \"Topic3\", \"Topic3\", \"Topic3\", \"Topic3\", \"Topic3\", \"Topic3\", \"Topic3\", \"Topic3\", \"Topic3\", \"Topic3\", \"Topic3\", \"Topic3\", \"Topic3\", \"Topic3\", \"Topic3\", \"Topic3\", \"Topic3\", \"Topic3\", \"Topic3\", \"Topic4\", \"Topic4\", \"Topic4\", \"Topic4\", \"Topic4\", \"Topic4\", \"Topic4\", \"Topic4\", \"Topic4\", \"Topic4\", \"Topic4\", \"Topic4\", \"Topic4\", \"Topic4\", \"Topic4\", \"Topic4\", \"Topic4\", \"Topic4\", \"Topic4\", \"Topic4\", \"Topic4\", \"Topic4\", \"Topic4\", \"Topic4\", \"Topic4\", \"Topic4\", \"Topic4\", \"Topic4\", \"Topic4\", \"Topic4\", \"Topic4\", \"Topic4\", \"Topic4\", \"Topic4\", \"Topic4\", \"Topic4\", \"Topic4\", \"Topic4\", \"Topic4\", \"Topic4\", \"Topic4\", \"Topic4\", \"Topic4\", \"Topic4\", \"Topic4\", \"Topic4\"], \"logprob\": [30.0, 29.0, 28.0, 27.0, 26.0, 25.0, 24.0, 23.0, 22.0, 21.0, 20.0, 19.0, 18.0, 17.0, 16.0, 15.0, 14.0, 13.0, 12.0, 11.0, 10.0, 9.0, 8.0, 7.0, 6.0, 5.0, 4.0, 3.0, 2.0, 1.0, -4.8026, -5.0635, -5.0693, -5.07, -5.2359, -3.6533, -4.5773, -4.9237, -5.2355, -5.2521, -5.2582, -5.4483, -5.4595, -5.3045, -5.4611, -5.0691, -5.1416, -3.7247, -4.6447, -5.556, -4.7245, -5.4132, -5.1957, -5.4561, -5.4628, -5.4743, -4.1658, -4.1467, -3.8452, -4.4987, -4.6704, -3.1249, -3.3901, -3.069, -4.0716, -2.6606, -4.7491, -4.6941, -3.376, -4.4494, -4.7412, -4.1061, -4.7989, -4.6869, -4.5727, -4.4363, -4.5086, -4.4273, -4.6444, -4.7399, -4.7788, -4.7866, -4.3414, -4.5967, -4.6251, -4.3382, -4.9009, -4.3778, -4.4953, -5.1279, -4.3709, -4.7867, -5.0626, -4.2449, -4.8453, -4.7776, -4.4936, -4.7651, -4.9647, -3.2832, -5.3833, -4.8007, -4.6702, -5.1768, -3.2844, -5.1722, -4.963, -5.345, -5.1166, -4.4938, -4.434, -5.4041, -2.8922, -3.8956, -4.4777, -3.8825, -4.1999, -4.2461, -2.9767, -4.4093, -4.4777, -4.7147, -3.9155, -4.3852, -4.4821, -4.4724, -4.3928, -4.6395, -4.6785, -4.571, -4.8021, -4.3481, -4.2561, -4.5952, -4.2835, -4.6018, -4.2407, -5.0216, -5.0272, -5.0298, -3.5362, -4.1659, -4.7856, -4.4672, -5.0106, -4.5132, -4.3853, -5.261, -5.2623, -5.0195, -4.7956, -4.0972, -4.655, -4.7456, -4.9625, -4.7621, -5.3762, -5.0967, -4.2748, -4.0011, -4.3926, -3.6439, -3.1842, -3.846, -4.1484, -3.7874, -3.1539, -3.6228, -4.4014, -3.9376, -3.9585, -4.6013, -4.6385, -4.5046, -4.5986, -4.6038, -3.6625, -4.2529, -4.5377, -4.5575, -4.588, -3.6729, -4.1167, -4.893, -4.4075, -4.1383, -4.7992, -4.7619, -4.9045, -4.5749, -4.9178, -4.7875, -3.2029, -4.0658, -4.9877, -5.1571, -5.0137, -5.2007, -5.0512, -4.6952, -4.352, -4.1848, -4.6831, -5.157, -5.0243, -5.1597, -3.6136, -4.8047, -4.3132, -4.5544, -4.5631, -4.3957, -2.9622, -3.3367, -3.9343, -4.3477, -4.2446, -4.0546, -4.5288, -4.5079, -4.3907, -4.6414], \"loglift\": [30.0, 29.0, 28.0, 27.0, 26.0, 25.0, 24.0, 23.0, 22.0, 21.0, 20.0, 19.0, 18.0, 17.0, 16.0, 15.0, 14.0, 13.0, 12.0, 11.0, 10.0, 9.0, 8.0, 7.0, 6.0, 5.0, 4.0, 3.0, 2.0, 1.0, 0.9852, 0.9752, 0.969, 0.9686, 0.9564, 0.9319, 0.9228, 0.86, 0.7978, 0.7853, 0.7795, 0.7351, 0.7314, 0.7241, 0.722, 0.7103, 0.6443, 0.6389, 0.6273, 0.6246, 0.6182, 0.6154, 0.5831, 0.5806, 0.5737, 0.5619, 0.5607, 0.5418, 0.5392, 0.5369, 0.5317, 0.4367, 0.4223, 0.3811, 0.4388, 0.229, 0.5208, 0.5038, 0.0995, 0.3908, 0.4605, 0.0496, 0.4769, 0.3874, 0.2548, 0.0328, -0.1203, -0.4272, -0.0454, 0.1765, 0.2502, -0.3108, 1.3359, 1.1852, 1.1573, 1.1495, 1.1328, 1.1186, 1.0801, 1.0514, 1.046, 0.9855, 0.9595, 0.956, 0.9277, 0.8928, 0.8304, 0.8152, 0.815, 0.8144, 0.8058, 0.7839, 0.7449, 0.7178, 0.7158, 0.7096, 0.6988, 0.6761, 0.6559, 0.6477, 0.6406, 0.632, 0.5834, 0.5802, 0.5982, 0.5058, 0.4886, 0.4804, -0.0872, 0.3811, 0.3047, 0.5611, -0.4654, 0.1253, 0.1169, -0.2008, -0.5804, 0.2389, 0.2456, -1.0094, 1.3477, 1.2917, 1.2902, 1.2685, 1.2636, 1.1501, 1.1408, 1.1354, 1.1316, 1.1291, 1.1182, 1.0787, 1.0784, 0.9995, 0.9979, 0.9551, 0.9312, 0.9031, 0.9031, 0.86, 0.8512, 0.8193, 0.8173, 0.8087, 0.8006, 0.797, 0.7931, 0.7852, 0.7829, 0.7814, 0.7238, 0.5118, 0.3775, 0.5385, 0.4506, 0.2128, -0.2643, -0.1472, 0.4261, -0.1252, -0.5084, 0.4731, 0.4374, -0.141, 0.1918, -0.5062, 1.5173, 1.502, 1.4687, 1.4503, 1.4197, 1.3923, 1.2739, 1.2728, 1.2493, 1.2488, 1.2138, 1.1086, 1.0983, 1.0866, 1.0855, 1.0827, 1.0687, 1.0546, 1.0183, 1.0144, 1.0058, 0.9722, 0.9666, 0.9633, 0.9026, 0.8863, 0.8827, 0.8652, 0.8637, 0.8602, 0.8555, 0.8505, 0.8154, 0.8289, 0.7485, 0.662, -0.0726, 0.1134, 0.1633, 0.3966, 0.2312, -0.2421, 0.5876, 0.3323, -0.2351, -1.0798]}, \"token.table\": {\"Topic\": [1, 2, 3, 4, 1, 2, 3, 1, 2, 3, 4, 1, 2, 3, 4, 1, 2, 3, 4, 1, 3, 4, 1, 3, 4, 1, 2, 3, 4, 2, 4, 1, 2, 4, 1, 2, 3, 1, 2, 3, 1, 3, 4, 1, 4, 1, 3, 4, 2, 3, 4, 1, 3, 1, 2, 3, 4, 2, 3, 1, 2, 3, 4, 1, 4, 1, 1, 2, 3, 4, 1, 2, 3, 4, 1, 4, 1, 3, 1, 2, 3, 4, 1, 2, 3, 4, 1, 4, 1, 3, 3, 1, 2, 3, 4, 1, 2, 3, 4, 1, 2, 3, 1, 2, 3, 1, 2, 1, 2, 1, 3, 4, 1, 2, 4, 1, 2, 3, 1, 2, 1, 3, 2, 3, 4, 1, 2, 3, 4, 1, 2, 2, 4, 1, 2, 3, 1, 3, 2, 4, 1, 3, 4, 1, 2, 3, 1, 2, 1, 2, 1, 4, 1, 3, 1, 2, 3, 4, 1, 3, 4, 4, 1, 3, 4, 2, 3, 1, 2, 3, 1, 2, 3, 4, 1, 2, 1, 2, 1, 2, 4, 1, 3, 4, 2, 4, 1, 2, 1, 2, 4, 1, 2, 3, 2, 3, 4, 1, 2, 3, 4, 2, 4, 1, 2, 3, 4, 1, 3, 4, 1, 2, 1, 2, 1, 4, 1, 2, 1, 2, 4, 1, 2, 4, 2, 3, 4, 1, 2, 4, 1, 2, 4, 1, 2, 1, 2, 3, 4, 1, 2, 4, 1, 4, 1, 3, 4, 1, 2, 3, 4, 1, 4, 1, 2, 4, 1, 2, 3, 4, 1, 2, 3, 4, 2, 3, 1, 2, 3, 1, 2, 3, 4, 2, 3, 4, 2, 3, 1, 2, 3, 4, 2, 4, 1, 2, 3, 4, 1, 3, 1, 3, 1, 2, 2, 4, 1, 2, 4, 1, 3, 4, 1, 2, 4, 1, 2, 1, 2, 3, 4, 1, 2, 3, 2, 3, 4, 1, 2, 3, 4, 1, 2, 3, 4, 2, 2, 3, 4, 1, 3, 1, 2, 4, 1, 2, 1, 2, 3, 4, 1, 2, 3, 4, 1, 2, 3, 1, 2, 3, 3, 4, 1, 2, 3, 4, 1, 2, 1, 2, 3, 4, 1, 2, 3, 4, 1, 2, 3, 4, 1, 4, 1, 1, 2, 2, 3, 2, 3, 1, 3, 4, 1, 3, 4, 1, 2, 3, 4, 1, 1, 3, 4, 2, 3, 1, 1, 2, 3, 4, 1, 4, 1, 2, 3, 4, 1, 4], \"Freq\": [0.09622258802009033, 0.09622258802009033, 0.48111294010045164, 0.288667764060271, 0.22371852575407994, 0.48811314709981074, 0.28473266914155626, 0.25683054561820257, 0.21402545468183545, 0.25683054561820257, 0.29963563655456965, 0.41865294856622326, 0.04651699428513592, 0.3256189599959514, 0.18606797714054368, 0.4927823428124918, 0.1525278680133903, 0.12906204216517642, 0.22292534555803198, 0.08140375448831225, 0.1628075089766245, 0.7326337903948102, 0.47633171477483527, 0.3572487860811265, 0.11908292869370882, 0.36304957481635597, 0.5445743622245339, 0.30150880225673515, 0.6030176045134703, 0.46033516438365674, 0.46033516438365674, 0.11968121344231797, 0.4787248537692719, 0.3590436403269539, 0.5389545228723595, 0.13473863071808986, 0.3368465767952247, 0.5412386182090507, 0.20296448182839402, 0.20296448182839402, 0.10480010486860925, 0.838400838948874, 0.10480010486860925, 0.3064177684174509, 0.6128355368349018, 0.11711768838136663, 0.4684707535254665, 0.4099119093347832, 0.15116752562078592, 0.30233505124157184, 0.6046701024831437, 0.17613998576175177, 0.7045599430470071, 0.13340145569913892, 0.18676203797879448, 0.08004087341948335, 0.5869664050762112, 0.5350281153225714, 0.38216293951612246, 0.23472326762276638, 0.0391205446037944, 0.6650492582645048, 0.0782410892075888, 0.06616713976277731, 0.9263399566788824, 0.9369913358410366, 0.11910578820546146, 0.47642315282184583, 0.23821157641092292, 0.17865868230819218, 0.9105290085501717, 0.13199529775964786, 0.2639905955192957, 0.6599764887982392, 0.32134710755217183, 0.6426942151043437, 0.540006993610953, 0.18000233120365097, 0.1789109279911961, 0.4174588319794576, 0.3578218559823922, 0.05963697599706537, 0.5081604391804735, 0.2710189008962525, 0.16938681306015785, 0.033877362612031565, 0.7766338619318569, 0.15532677238637138, 0.17611951467893389, 0.7044780587157355, 0.8726686234453952, 0.3426265523892176, 0.2936799020479008, 0.2936799020479008, 0.048946650341316796, 0.7798306662418023, 0.15596613324836048, 0.3013356523239677, 0.6026713046479354, 0.3731154448688918, 0.43329535533161634, 0.19257571348071836, 0.5674839829103347, 0.029867578047912357, 0.3882785146228606, 0.12086710025880366, 0.7252026015528219, 0.7801284896652048, 0.15602569793304094, 0.3203424095024493, 0.10678080316748309, 0.5339040158374154, 0.5182044066739127, 0.2355474575790512, 0.28265694909486144, 0.41855667376738986, 0.5022680085208678, 0.08371133475347797, 0.5667232983854863, 0.40480235598963304, 0.3559190327555877, 0.5338785491333816, 0.1863040604225966, 0.43470947431939205, 0.3726081208451932, 0.07130078305398929, 0.35650391526994646, 0.07130078305398929, 0.499105481377925, 0.25159684709967256, 0.6709249255991269, 0.1769839542137981, 0.8259251196643911, 0.17727921055941726, 0.17727921055941726, 0.5318376316782518, 0.7217771666753795, 0.18044429166884488, 0.5987348839257577, 0.3592409303554546, 0.3893231920122577, 0.09733079800306442, 0.4866539900153221, 0.35568377314290034, 0.11856125771430011, 0.47424503085720043, 0.5886999247438777, 0.37844995162106426, 0.6232001084086838, 0.3116000542043419, 0.4608765780923378, 0.4608765780923378, 0.09545535054196426, 0.8590981548776784, 0.3331324339312335, 0.25910300416873716, 0.3331324339312335, 0.07402942976249632, 0.2648575008705659, 0.6180008353646538, 0.08828583362352196, 0.9073688044377272, 0.18705281058607195, 0.24940374744809596, 0.5611584317582159, 0.35410001963806026, 0.5311500294570903, 0.266406361896488, 0.133203180948244, 0.532812723792976, 0.5115880253617896, 0.09182349173160326, 0.3279410418985831, 0.06558820837971661, 0.46728242002266285, 0.46728242002266285, 0.12081960298599832, 0.8457372209019882, 0.4029685210835505, 0.13432284036118353, 0.5372913614447341, 0.16338184071954048, 0.08169092035977024, 0.7352182832379321, 0.3044368203347579, 0.6088736406695158, 0.6064560584805503, 0.24258242339222014, 0.2410725092780348, 0.602681273195087, 0.1205362546390174, 0.17786999131898137, 0.3112724848082174, 0.4891424761271988, 0.13110982199037982, 0.786658931942279, 0.13110982199037982, 0.5791946912403855, 0.21719800921514457, 0.07239933640504818, 0.14479867281009637, 0.4588834717891301, 0.4588834717891301, 0.5056921102066474, 0.1348512293884393, 0.20227684408265897, 0.15170763306199422, 0.21286601394196195, 0.21286601394196195, 0.4257320278839239, 0.18162719828877585, 0.7265087931551034, 0.5097805894990128, 0.4369547909991539, 0.7230729899603207, 0.24102432998677356, 0.727455869722609, 0.18186396743065225, 0.5409932824157502, 0.13524832060393754, 0.33812080150984386, 0.10806341739827031, 0.5403170869913516, 0.21612683479654063, 0.08109597847090544, 0.4054798923545272, 0.48657587082543263, 0.15327413433203027, 0.4598224029960908, 0.4598224029960908, 0.6529764602084825, 0.21765882006949416, 0.14510588004632946, 0.8203091889886731, 0.09114546544318591, 0.10714738474096805, 0.5357369237048403, 0.3214421542229042, 0.10714738474096805, 0.6229442098932876, 0.23360407870998284, 0.07786802623666095, 0.3567352782746993, 0.535102917412049, 0.09552770388627406, 0.7642216310901925, 0.09552770388627406, 0.2290618883383689, 0.4254006497712566, 0.06544625381096254, 0.26178501524385017, 0.15142287361466933, 0.908537241688016, 0.5728247770997252, 0.2864123885498626, 0.17184743312991757, 0.13515526356365257, 0.6081986860364366, 0.13515526356365257, 0.13515526356365257, 0.3183805393748551, 0.44573275512479715, 0.12735221574994204, 0.06367610787497102, 0.1757976908062525, 0.70319076322501, 0.15153586547897305, 0.15153586547897305, 0.6061434619158922, 0.0881470074905549, 0.1762940149811098, 0.6170290524338844, 0.0881470074905549, 0.16190984623163074, 0.7285943080423383, 0.08095492311581537, 0.7190682071379103, 0.17976705178447758, 0.2998442015054464, 0.3897974619570803, 0.17990652090326784, 0.11993768060217856, 0.17735552792508266, 0.7094221117003306, 0.6435241176532206, 0.08775328877089371, 0.204757673798752, 0.08775328877089371, 0.4005341700245506, 0.5340455600327342, 0.6184471397141388, 0.3092235698570694, 0.6234630260695218, 0.3117315130347609, 0.6878911079343273, 0.19654031655266493, 0.10659453645690635, 0.10659453645690635, 0.7461617551983445, 0.28236770936437977, 0.6353273460698544, 0.07059192734109494, 0.17861920543276064, 0.17861920543276064, 0.5358576162982819, 0.3967157030107897, 0.4958946287634871, 0.18858220328277966, 0.18858220328277966, 0.12572146885518642, 0.44002514099315254, 0.4552174881375231, 0.34141311610314234, 0.22760874406876155, 0.6144455816920963, 0.30722279084604814, 0.9407539283140869, 0.26591702036412357, 0.0886390067880412, 0.5318340407282471, 0.0886390067880412, 0.30742448603544137, 0.30742448603544137, 0.15371224301772068, 0.25618707169620114, 0.8704941321732385, 0.5982145510110624, 0.11964291020221247, 0.11964291020221247, 0.7220306067293416, 0.1805076516823354, 0.2962497379137385, 0.592499475827477, 0.09874991263791283, 0.15540414025414875, 0.7770207012707439, 0.268924385630435, 0.35856584750724674, 0.268924385630435, 0.08964146187681168, 0.3563857682259074, 0.11879525607530247, 0.3801448194409679, 0.16631335850542345, 0.40676785042145597, 0.050845981302681996, 0.50845981302682, 0.6021618470360551, 0.12043236940721103, 0.24086473881442205, 0.6556961738108574, 0.26227846952434297, 0.4219950016659008, 0.22104500087261472, 0.17415666735418128, 0.1875533340737337, 0.8396379888053803, 0.14602399805310962, 0.35756379348591777, 0.09751739822343213, 0.06501159881562141, 0.4550811917093499, 0.29002887888514756, 0.09667629296171586, 0.48338146480857924, 0.09667629296171586, 0.2704528509135894, 0.5409057018271788, 0.1352264254567947, 0.1352264254567947, 0.8472101991004438, 0.12103002844292055, 0.9370094707431057, 0.6233764340399441, 0.31168821701997207, 0.23449089993154013, 0.7034726997946205, 0.5339778063199073, 0.4004833547399305, 0.13196077692517802, 0.26392155385035604, 0.5278431077007121, 0.30340362870170595, 0.5309563502279854, 0.07585090717542649, 0.1780432033330888, 0.1780432033330888, 0.11869546888872586, 0.4747818755549034, 0.9367512647538075, 0.10554750599475918, 0.5277375299737959, 0.3166425179842775, 0.7201599782129328, 0.1800399945532332, 0.8506628177489735, 0.08968116006579123, 0.5380869603947475, 0.13452174009868686, 0.22420290016447808, 0.15140682195980754, 0.7570341097990376, 0.07548925605804477, 0.07548925605804477, 0.37744628029022387, 0.4529355363482686, 0.6184222156675903, 0.30921110783379513], \"Term\": [\"actually\", \"actually\", \"actually\", \"actually\", \"alonso\", \"alonso\", \"alonso\", \"also\", \"also\", \"also\", \"also\", \"always\", \"always\", \"always\", \"always\", \"aston\", \"aston\", \"aston\", \"aston\", \"auto\", \"auto\", \"auto\", \"back\", \"back\", \"back\", \"became\", \"became\", \"become\", \"become\", \"beginning\", \"beginning\", \"behind\", \"behind\", \"behind\", \"big\", \"big\", \"big\", \"bit\", \"bit\", \"bit\", \"bond\", \"bond\", \"bond\", \"bought\", \"bought\", \"brand\", \"brand\", \"brand\", \"branding\", \"branding\", \"branding\", \"came\", \"came\", \"car\", \"car\", \"car\", \"car\", \"care\", \"care\", \"cars\", \"cars\", \"cars\", \"cars\", \"company\", \"company\", \"consider\", \"could\", \"could\", \"could\", \"could\", \"count\", \"deal\", \"deal\", \"deal\", \"different\", \"different\", \"drive\", \"drive\", \"driver\", \"driver\", \"driver\", \"driver\", \"drivers\", \"drivers\", \"drivers\", \"drivers\", \"drives\", \"drives\", \"eddie\", \"eddie\", \"end\", \"even\", \"even\", \"even\", \"even\", \"every\", \"every\", \"factory\", \"factory\", \"fan\", \"fan\", \"fan\", \"fans\", \"fans\", \"fans\", \"favorite\", \"favorite\", \"feel\", \"feel\", \"fernando\", \"fernando\", \"fernando\", \"ferrari\", \"ferrari\", \"ferrari\", \"first\", \"first\", \"first\", \"force\", \"force\", \"full\", \"full\", \"get\", \"get\", \"get\", \"good\", \"good\", \"good\", \"good\", \"great\", \"great\", \"green\", \"green\", \"grid\", \"grid\", \"grid\", \"guys\", \"guys\", \"honda\", \"honda\", \"https\", \"https\", \"https\", \"huge\", \"huge\", \"huge\", \"india\", \"india\", \"interest\", \"interest\", \"investment\", \"investment\", \"james\", \"james\", \"jordan\", \"jordan\", \"jordan\", \"jordan\", \"lance\", \"lance\", \"lance\", \"last\", \"lawrence\", \"lawrence\", \"lawrence\", \"leaves\", \"leaves\", \"less\", \"less\", \"less\", \"like\", \"like\", \"like\", \"like\", \"liked\", \"liked\", \"little\", \"little\", \"livery\", \"livery\", \"livery\", \"long\", \"long\", \"long\", \"looking\", \"looking\", \"lost\", \"lost\", \"lot\", \"lot\", \"lot\", \"love\", \"love\", \"love\", \"made\", \"made\", \"made\", \"make\", \"make\", \"make\", \"make\", \"makes\", \"makes\", \"martin\", \"martin\", \"martin\", \"martin\", \"may\", \"may\", \"may\", \"maybe\", \"maybe\", \"mclaren\", \"mclaren\", \"mean\", \"mean\", \"merc\", \"merc\", \"mercedes\", \"mercedes\", \"mercedes\", \"midland\", \"midland\", \"midland\", \"money\", \"money\", \"money\", \"mostly\", \"mostly\", \"mostly\", \"much\", \"much\", \"much\", \"name\", \"name\", \"never\", \"never\", \"never\", \"never\", \"new\", \"new\", \"new\", \"nothing\", \"nothing\", \"old\", \"old\", \"old\", \"one\", \"one\", \"one\", \"one\", \"owns\", \"owns\", \"people\", \"people\", \"people\", \"point\", \"point\", \"point\", \"point\", \"probably\", \"probably\", \"probably\", \"probably\", \"put\", \"put\", \"question\", \"question\", \"question\", \"quite\", \"quite\", \"quite\", \"quite\", \"race\", \"race\", \"race\", \"races\", \"races\", \"racing\", \"racing\", \"racing\", \"racing\", \"read\", \"read\", \"really\", \"really\", \"really\", \"really\", \"reason\", \"reason\", \"recent\", \"recent\", \"red\", \"red\", \"remember\", \"remember\", \"right\", \"right\", \"right\", \"road\", \"road\", \"road\", \"said\", \"said\", \"said\", \"sauber\", \"sauber\", \"season\", \"season\", \"season\", \"season\", \"see\", \"see\", \"see\", \"seeing\", \"seeing\", \"shares\", \"silverstone\", \"silverstone\", \"silverstone\", \"silverstone\", \"since\", \"since\", \"since\", \"since\", \"someone\", \"something\", \"something\", \"something\", \"sorry\", \"sorry\", \"spyker\", \"spyker\", \"spyker\", \"start\", \"start\", \"still\", \"still\", \"still\", \"still\", \"stroll\", \"stroll\", \"stroll\", \"stroll\", \"support\", \"support\", \"support\", \"sure\", \"sure\", \"sure\", \"take\", \"take\", \"team\", \"team\", \"team\", \"team\", \"teams\", \"teams\", \"think\", \"think\", \"think\", \"think\", \"time\", \"time\", \"time\", \"time\", \"true\", \"true\", \"true\", \"true\", \"two\", \"two\", \"underdog\", \"use\", \"use\", \"used\", \"used\", \"vettel\", \"vettel\", \"wanted\", \"wanted\", \"wanted\", \"watching\", \"watching\", \"watching\", \"well\", \"well\", \"well\", \"well\", \"went\", \"whole\", \"whole\", \"whole\", \"without\", \"without\", \"world\", \"would\", \"would\", \"would\", \"would\", \"yeah\", \"yeah\", \"year\", \"year\", \"year\", \"year\", \"yes\", \"yes\"]}, \"R\": 30, \"lambda.step\": 0.01, \"plot.opts\": {\"xlab\": \"PC1\", \"ylab\": \"PC2\"}, \"topic.order\": [4, 2, 1, 3]};\n",
       "\n",
       "function LDAvis_load_lib(url, callback){\n",
       "  var s = document.createElement('script');\n",
       "  s.src = url;\n",
       "  s.async = true;\n",
       "  s.onreadystatechange = s.onload = callback;\n",
       "  s.onerror = function(){console.warn(\"failed to load library \" + url);};\n",
       "  document.getElementsByTagName(\"head\")[0].appendChild(s);\n",
       "}\n",
       "\n",
       "if(typeof(LDAvis) !== \"undefined\"){\n",
       "   // already loaded: just create the visualization\n",
       "   !function(LDAvis){\n",
       "       new LDAvis(\"#\" + \"ldavis_el751623320660027683566776155\", ldavis_el751623320660027683566776155_data);\n",
       "   }(LDAvis);\n",
       "}else if(typeof define === \"function\" && define.amd){\n",
       "   // require.js is available: use it to load d3/LDAvis\n",
       "   require.config({paths: {d3: \"https://d3js.org/d3.v5\"}});\n",
       "   require([\"d3\"], function(d3){\n",
       "      window.d3 = d3;\n",
       "      LDAvis_load_lib(\"https://cdn.jsdelivr.net/gh/bmabey/pyLDAvis@3.4.0/pyLDAvis/js/ldavis.v3.0.0.js\", function(){\n",
       "        new LDAvis(\"#\" + \"ldavis_el751623320660027683566776155\", ldavis_el751623320660027683566776155_data);\n",
       "      });\n",
       "    });\n",
       "}else{\n",
       "    // require.js not available: dynamically load d3 & LDAvis\n",
       "    LDAvis_load_lib(\"https://d3js.org/d3.v5.js\", function(){\n",
       "         LDAvis_load_lib(\"https://cdn.jsdelivr.net/gh/bmabey/pyLDAvis@3.4.0/pyLDAvis/js/ldavis.v3.0.0.js\", function(){\n",
       "                 new LDAvis(\"#\" + \"ldavis_el751623320660027683566776155\", ldavis_el751623320660027683566776155_data);\n",
       "            })\n",
       "         });\n",
       "}\n",
       "</script>"
      ],
      "text/plain": [
       "<IPython.core.display.HTML object>"
      ]
     },
     "execution_count": 27,
     "metadata": {},
     "output_type": "execute_result"
    }
   ],
   "source": [
    "vis_data = pyLDAvis.gensim_models.prepare(lda, corpus, dictionary)\n",
    "pyLDAvis.display(vis_data)"
   ]
  },
  {
   "cell_type": "markdown",
   "id": "44ab20d1",
   "metadata": {},
   "source": [
    "## 10. Split into positive vs. negative comments"
   ]
  },
  {
   "cell_type": "code",
   "execution_count": 28,
   "id": "38f3d3e4",
   "metadata": {},
   "outputs": [
    {
     "name": "stdout",
     "output_type": "stream",
     "text": [
      "Positive comments: 198\n",
      "Negative comments: 48\n"
     ]
    }
   ],
   "source": [
    "# Define your thresholds (based on VADER’s compound score)\n",
    "pos_threshold =  0.05\n",
    "neg_threshold = -0.05\n",
    "\n",
    "# Filter DataFrame\n",
    "df_pos = df[df['compound'] >= pos_threshold].copy()\n",
    "df_neg = df[df['compound'] <= neg_threshold].copy()\n",
    "\n",
    "print(f\"Positive comments: {len(df_pos)}\")\n",
    "print(f\"Negative comments: {len(df_neg)}\")"
   ]
  },
  {
   "cell_type": "markdown",
   "id": "89500854",
   "metadata": {},
   "source": [
    "## 11. Build separate dictionaries & corpora"
   ]
  },
  {
   "cell_type": "code",
   "execution_count": 29,
   "id": "4e9b15be",
   "metadata": {},
   "outputs": [],
   "source": [
    "def build_dict_corpus(token_lists, no_below=3, no_above=0.5):\n",
    "    d = corpora.Dictionary(token_lists)\n",
    "    d.filter_extremes(no_below=no_below, no_above=no_above)\n",
    "    c = [d.doc2bow(toks) for toks in token_lists]\n",
    "    return d, c\n",
    "\n",
    "# You can adjust filtering parameters if one subset is much smaller\n",
    "dict_pos, corpus_pos = build_dict_corpus(df_pos['tokens'], no_below=3, no_above=0.5)\n",
    "dict_neg, corpus_neg = build_dict_corpus(df_neg['tokens'], no_below=3, no_above=0.5)"
   ]
  },
  {
   "cell_type": "markdown",
   "id": "20b45e16",
   "metadata": {},
   "source": [
    "## 12. Train two LDA models"
   ]
  },
  {
   "cell_type": "code",
   "execution_count": 32,
   "id": "b6846a59",
   "metadata": {},
   "outputs": [],
   "source": [
    "NUM_TOPICS = 3  # or choose separately for each\n",
    "\n",
    "lda_pos = models.LdaModel(\n",
    "    corpus=corpus_pos,\n",
    "    id2word=dict_pos,\n",
    "    num_topics=NUM_TOPICS,\n",
    "    passes=10,\n",
    "    random_state=42\n",
    ")\n",
    "\n",
    "lda_neg = models.LdaModel(\n",
    "    corpus=corpus_neg,\n",
    "    id2word=dict_neg,\n",
    "    num_topics=NUM_TOPICS,\n",
    "    passes=10,\n",
    "    random_state=42\n",
    ")"
   ]
  },
  {
   "cell_type": "markdown",
   "id": "8d999022",
   "metadata": {},
   "source": [
    "## 13. Inspect topics for positive vs. negative"
   ]
  },
  {
   "cell_type": "code",
   "execution_count": 33,
   "id": "b005d05f",
   "metadata": {},
   "outputs": [
    {
     "name": "stdout",
     "output_type": "stream",
     "text": [
      "=== Positive Comments Topics ===\n",
      "Topic 0: like, team, fans, aston, martin, would, really, stroll, think, car\n",
      "Topic 1: would, team, think, also, alonso, could, quite, good, season, see\n",
      "Topic 2: team, fan, aston, martin, racing, like, one, alonso, india, force\n",
      "\n",
      "=== Negative Comments Topics ===\n",
      "Topic 0: team, fan, alonso, aston, would, martin, care, really, stroll, get\n",
      "Topic 1: team, india, force, people, lost, since, midland, racing, fan, may\n",
      "Topic 2: like, stroll, teams, driver, pay, much, one, team, hard, though\n"
     ]
    }
   ],
   "source": [
    "print(\"=== Positive Comments Topics ===\")\n",
    "for tid, terms in lda_pos.show_topics(formatted=False):\n",
    "    print(f\"Topic {tid}: {', '.join(w for w,_ in terms)}\")\n",
    "\n",
    "print(\"\\n=== Negative Comments Topics ===\")\n",
    "for tid, terms in lda_neg.show_topics(formatted=False):\n",
    "    print(f\"Topic {tid}: {', '.join(w for w,_ in terms)}\")"
   ]
  }
 ],
 "metadata": {
  "kernelspec": {
   "display_name": "Python 3",
   "language": "python",
   "name": "python3"
  },
  "language_info": {
   "codemirror_mode": {
    "name": "ipython",
    "version": 3
   },
   "file_extension": ".py",
   "mimetype": "text/x-python",
   "name": "python",
   "nbconvert_exporter": "python",
   "pygments_lexer": "ipython3",
   "version": "3.12.10"
  }
 },
 "nbformat": 4,
 "nbformat_minor": 5
}
