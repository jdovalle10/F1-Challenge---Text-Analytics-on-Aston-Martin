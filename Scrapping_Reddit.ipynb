{
 "cells": [
  {
   "cell_type": "code",
   "execution_count": null,
   "id": "0d50a99a",
   "metadata": {},
   "outputs": [
    {
     "name": "stdout",
     "output_type": "stream",
     "text": [
      "Client ID: DHJ6i6-NjssQ5b5SPIqJvw\n",
      "Secret: NkUebd7YS1ZzQLhzVq_9dyyYHOyDEQ\n",
      "Username: Sad-State-7591\n",
      "Password loaded: True\n",
      "User Agent: script:aston.scraper:v1.0 (by u/Sad-State-7591)\n"
     ]
    }
   ],
   "source": [
    "#Make sure everything is set up correctly\n",
    "print(\"Client ID:\", os.getenv(\"REDDIT_CLIENT_ID\"))\n",
    "print(\"Secret:\", os.getenv(\"REDDIT_SECRET\"))\n",
    "print(\"Username:\", os.getenv(\"REDDIT_USERNAME\"))\n",
    "print(\"Password loaded:\", os.getenv(\"REDDIT_PASSWORD\") is not None)\n",
    "print(\"User Agent:\", os.getenv(\"REDDIT_USER_AGENT\"))\n"
   ]
  },
  {
   "cell_type": "code",
   "execution_count": null,
   "id": "89ab62da",
   "metadata": {},
   "outputs": [
    {
     "name": "stdout",
     "output_type": "stream",
     "text": [
      "Logged in as: Sad-State-7591\n"
     ]
    }
   ],
   "source": [
    "import os\n",
    "from dotenv import load_dotenv\n",
    "import praw\n",
    "\n",
    "load_dotenv()\n",
    "\n",
    "reddit = praw.Reddit(\n",
    "    client_id=os.getenv(\"REDDIT_CLIENT_ID\"),\n",
    "    client_secret=os.getenv(\"REDDIT_SECRET\"),\n",
    "    username=os.getenv(\"REDDIT_USERNAME\"),\n",
    "    password=os.getenv(\"REDDIT_PASSWORD\"),\n",
    "    user_agent=os.getenv(\"REDDIT_USER_AGENT\")\n",
    ")\n",
    "\n",
    "print(\"Logged in as:\", reddit.user.me())\n"
   ]
  },
  {
   "cell_type": "code",
   "execution_count": 5,
   "id": "656066bb",
   "metadata": {},
   "outputs": [],
   "source": [
    "subreddit = reddit.subreddit(\"formula1\")\n",
    "\n",
    "posts = []\n",
    "for post in subreddit.new(limit=100):\n",
    "    if \"aston martin\" in post.title.lower():\n",
    "        posts.append({\n",
    "            \"title\": post.title,\n",
    "            \"text\": post.selftext,\n",
    "            \"upvotes\": post.score,\n",
    "            \"num_comments\": post.num_comments,\n",
    "            \"created_utc\": post.created_utc,\n",
    "            \"url\": post.url\n",
    "        })\n"
   ]
  },
  {
   "cell_type": "code",
   "execution_count": 8,
   "id": "75b9b15c",
   "metadata": {},
   "outputs": [
    {
     "data": {
      "text/plain": [
       "[{'title': \"What's going so wrong with Aston Martin's 2025 F1 season\",\n",
       "  'text': 'But now, with its regular line-up in place, a £150 million factory up and running (including a state-of-the-art windtunnel) and Adrian Newey having been lured from Red Bull, everything Aston Martin needs to deliver is in place. And yet it isn’t.\\n\\n',\n",
       "  'upvotes': 360,\n",
       "  'num_comments': 100,\n",
       "  'created_utc': 1746001508.0,\n",
       "  'url': 'https://www.the-race.com/formula-1/whats-going-wrong-aston-martin-2025-season/'},\n",
       " {'title': '‘I will see how motivated I am’ – Fernando Alonso opens up on his F1 future post-2026 as he insists he doesn’t want to ‘compromise’ Aston Martin | Formula 1®',\n",
       "  'text': '',\n",
       "  'upvotes': 1085,\n",
       "  'num_comments': 101,\n",
       "  'created_utc': 1745956474.0,\n",
       "  'url': 'https://www.formula1.com/en/latest/article/i-will-see-how-motivated-i-am-alonso-opens-up-on-his-f1-future-post-2026-as.V9KNWb0kNnMtAmewDi5Un'},\n",
       " {'title': 'Aston Martin explain how wind tunnel ‘opened our eyes’',\n",
       "  'text': '',\n",
       "  'upvotes': 455,\n",
       "  'num_comments': 52,\n",
       "  'created_utc': 1745839051.0,\n",
       "  'url': 'https://www.formula1.com/en/latest/article/aston-martin-boss-cowell-explains-how-wind-tunnel-has-opened-our-eyes-to-new.1HJOC8Ubfd4YBlgBqxqf0G'}]"
      ]
     },
     "execution_count": 8,
     "metadata": {},
     "output_type": "execute_result"
    }
   ],
   "source": [
    "posts"
   ]
  },
  {
   "cell_type": "code",
   "execution_count": 11,
   "id": "112dc0f8",
   "metadata": {},
   "outputs": [
    {
     "name": "stderr",
     "output_type": "stream",
     "text": [
      "[nltk_data] Downloading package stopwords to\n",
      "[nltk_data]     /Users/juandavidovallevega/nltk_data...\n",
      "[nltk_data]   Unzipping corpora/stopwords.zip.\n",
      "[nltk_data] Downloading package wordnet to\n",
      "[nltk_data]     /Users/juandavidovallevega/nltk_data...\n",
      "[nltk_data]   Package wordnet is already up-to-date!\n",
      "[nltk_data] Downloading package punkt to\n",
      "[nltk_data]     /Users/juandavidovallevega/nltk_data...\n",
      "[nltk_data]   Package punkt is already up-to-date!\n"
     ]
    }
   ],
   "source": [
    "#Perform text Preprocessing to the comments\n",
    "import pandas as pd\n",
    "import nltk\n",
    "from nltk.corpus import stopwords\n",
    "from nltk.stem import WordNetLemmatizer\n",
    "from sklearn.feature_extraction.text import TfidfVectorizer\n",
    "\n",
    "df = pd.DataFrame(posts)\n",
    "\n",
    "#Combine title and text\n",
    "df['content'] = df['title'] + \" \" + df['text']\n",
    "\n",
    "#Preprocess the text: lowercase, remove stopwords, lemmatize\n",
    "nltk.download('stopwords')\n",
    "nltk.download('wordnet')\n",
    "nltk.download('punkt')\n",
    "\n",
    "lemmatizer = WordNetLemmatizer()\n",
    "stop_words = set(stopwords.words('english'))\n",
    "\n",
    "def preprocess(text):\n",
    "    tokens = nltk.word_tokenize(text.lower())\n",
    "    tokens = [lemmatizer.lemmatize(token) for token in tokens if token.isalpha() and token not in stop_words]\n",
    "    return ' '.join(tokens)\n",
    "\n",
    "df['cleaned'] = df['content'].apply(preprocess)"
   ]
  },
  {
   "cell_type": "code",
   "execution_count": null,
   "id": "9c83ce1f",
   "metadata": {},
   "outputs": [
    {
     "data": {
      "text/plain": [
       "0    going wrong aston martin season regular place ...\n",
       "1    see motivated fernando alonso open future insi...\n",
       "2          aston martin explain wind tunnel opened eye\n",
       "Name: cleaned, dtype: object"
      ]
     },
     "execution_count": 12,
     "metadata": {},
     "output_type": "execute_result"
    }
   ],
   "source": [
    "#Sentiment Analysis\n"
   ]
  },
  {
   "cell_type": "code",
   "execution_count": null,
   "id": "20d53681",
   "metadata": {},
   "outputs": [],
   "source": []
  }
 ],
 "metadata": {
  "kernelspec": {
   "display_name": "spyder",
   "language": "python",
   "name": "python3"
  },
  "language_info": {
   "codemirror_mode": {
    "name": "ipython",
    "version": 3
   },
   "file_extension": ".py",
   "mimetype": "text/x-python",
   "name": "python",
   "nbconvert_exporter": "python",
   "pygments_lexer": "ipython3",
   "version": "3.11.9"
  }
 },
 "nbformat": 4,
 "nbformat_minor": 5
}
